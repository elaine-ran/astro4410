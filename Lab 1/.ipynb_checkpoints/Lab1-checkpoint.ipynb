{
 "cells": [
  {
   "cell_type": "markdown",
   "id": "249cfafd-7d98-41d4-bac3-c9f758649d37",
   "metadata": {},
   "source": [
    "# Lab 1"
   ]
  },
  {
   "cell_type": "code",
   "execution_count": 49,
   "id": "167ecfe9-c296-4f76-997a-cf22bd951407",
   "metadata": {},
   "outputs": [],
   "source": [
    "import numpy as np\n",
    "import matplotlib.pyplot as plt\n",
    "import pandas as pd\n",
    "from astropy.io import fits\n",
    "from astropy.utils.data import download_file\n",
    "from matplotlib.colors import LogNorm"
   ]
  },
  {
   "cell_type": "markdown",
   "id": "9932b9a7-925e-4e54-ad82-424c92cc2f6c",
   "metadata": {
    "jp-MarkdownHeadingCollapsed": true
   },
   "source": [
    "# Measure the Bias and read noise"
   ]
  },
  {
   "cell_type": "code",
   "execution_count": 31,
   "id": "0132c367-8e77-4ce8-8b51-bc721f3f43cb",
   "metadata": {},
   "outputs": [],
   "source": [
    "image_files = [\"Ran_Shikha_Joshi/Bias_Read_Noise/CCD Image \" + str(n) + \".fit\" for n in range(3, 21)]"
   ]
  },
  {
   "cell_type": "code",
   "execution_count": 91,
   "id": "63c2220a-2059-4c88-8208-1d29d02722ae",
   "metadata": {},
   "outputs": [],
   "source": [
    "image_concat = np.array([fits.getdata(f) for f in image_files])"
   ]
  },
  {
   "cell_type": "code",
   "execution_count": 569,
   "id": "31d32617-ac4b-411b-9455-e35868e6c9a6",
   "metadata": {},
   "outputs": [
    {
     "name": "stdout",
     "output_type": "stream",
     "text": [
      "Bias level: 610.0 ADU\n"
     ]
    }
   ],
   "source": [
    "image_med = np.median(image_concat, axis=0)\n",
    "bias_level_adu = float(np.nanmedian(image_med))\n",
    "print(f\"Bias level: {bias_level_adu} ADU\")"
   ]
  },
  {
   "cell_type": "code",
   "execution_count": 567,
   "id": "4f30812f-1975-48db-9cf3-d79be6630195",
   "metadata": {},
   "outputs": [
    {
     "name": "stdout",
     "output_type": "stream",
     "text": [
      "Read noise: 24.64283325369124 ADU\n"
     ]
    }
   ],
   "source": [
    "image_std = np.nanstd(image_concat, axis=0, ddof=1)\n",
    "read_noise_adu = np.nanmedian(image_std)\n",
    "\n",
    "print(f\"Read noise: {read_noise_adu} ADU\")"
   ]
  },
  {
   "cell_type": "markdown",
   "id": "04d7c35d-519d-4625-9c15-337afa6bc0ae",
   "metadata": {},
   "source": [
    "# Dark Current"
   ]
  },
  {
   "cell_type": "markdown",
   "id": "e5faa588-6116-4dc9-b869-2aff80ac6c32",
   "metadata": {
    "jp-MarkdownHeadingCollapsed": true
   },
   "source": [
    "## Cooler Off"
   ]
  },
  {
   "cell_type": "code",
   "execution_count": 401,
   "id": "08a4085d-24e8-4182-823f-c4a70d0d86a0",
   "metadata": {},
   "outputs": [],
   "source": [
    "ordered = range(39, 49)\n",
    "image_files = [\"Ran_Shikha_Joshi/Dark_Current/Cooler_Off/CCD Image \" + str(n) + \".fit\" for n in ordered]"
   ]
  },
  {
   "cell_type": "code",
   "execution_count": 403,
   "id": "ceea7d63-d2c3-445e-8012-4436689b9315",
   "metadata": {},
   "outputs": [],
   "source": [
    "times = [0.1, 1, 5, 10, 20, 40, 60, 80, 160, 320]"
   ]
  },
  {
   "cell_type": "code",
   "execution_count": 531,
   "id": "8905550a-9db7-4359-a41b-e426595a8120",
   "metadata": {},
   "outputs": [],
   "source": [
    "medians = []\n",
    "maxes = []\n",
    "for i in image_files:\n",
    "    data = fits.getdata(i)\n",
    "    maxes.append(np.max(data))\n",
    "    #means.append(np.max(data[int(data.shape[0]/2 - 1) : int(data.shape[0]/2 + 1), int(data.shape[1]/2 - 1) : int(data.shape[1]/2 + 1)]))\n",
    "    medians.append(np.median(data))"
   ]
  },
  {
   "cell_type": "code",
   "execution_count": 533,
   "id": "e0fc792a-2d8c-478a-a808-4ab6cea28f83",
   "metadata": {},
   "outputs": [
    {
     "name": "stdout",
     "output_type": "stream",
     "text": [
      "[np.uint16(903), np.uint16(24448), np.uint16(51054), np.uint16(59097), np.uint16(59342), np.uint16(59404), np.uint16(59563), np.uint16(59788), np.uint16(60255), np.uint16(60724)]\n"
     ]
    }
   ],
   "source": [
    "print(maxes)"
   ]
  },
  {
   "cell_type": "code",
   "execution_count": 565,
   "id": "a36d400c-49e6-4449-8b45-523a49c39e90",
   "metadata": {},
   "outputs": [
    {
     "name": "stdout",
     "output_type": "stream",
     "text": [
      "dDN/dt=0.15392707243003695 DN/s\n"
     ]
    }
   ],
   "source": [
    "slope, intercept = np.polyfit(times, medians, 1)\n",
    "dDNdt = slope\n",
    "print(f\"dDN/dt={dDNdt} DN/s\")"
   ]
  },
  {
   "cell_type": "code",
   "execution_count": 541,
   "id": "1c57b94e-045d-4a93-bf48-a16239e441de",
   "metadata": {},
   "outputs": [
    {
     "data": {
      "text/plain": [
       "[<matplotlib.lines.Line2D at 0x301c842d0>]"
      ]
     },
     "execution_count": 541,
     "metadata": {},
     "output_type": "execute_result"
    },
    {
     "data": {
      "image/png": "[encoded data removed]",
      "text/plain": [
       "<Figure size 640x480 with 1 Axes>"
      ]
     },
     "metadata": {},
     "output_type": "display_data"
    }
   ],
   "source": [
    "#plt.plot(times, maxes, 'o')\n",
    "plt.plot(times, medians, 'o')\n",
    "plt.plot(times, slope * np.array(times) + intercept)"
   ]
  },
  {
   "cell_type": "markdown",
   "id": "13ad89f7-c05c-4eeb-b7ad-50a773950cdb",
   "metadata": {},
   "source": [
    "## Cooler On"
   ]
  },
  {
   "cell_type": "code",
   "execution_count": 589,
   "id": "bd434ae4-f54c-45b3-a36b-b5f7319d198a",
   "metadata": {},
   "outputs": [],
   "source": [
    "ordered = range(49, 58)\n",
    "image_files = [\"Ran_Shikha_Joshi/Dark_Current/Cooler_On/CCD Image \" + str(n) + \".fit\" for n in ordered]"
   ]
  },
  {
   "cell_type": "code",
   "execution_count": 591,
   "id": "b69313f4-8843-4b53-9b26-ceb53460d882",
   "metadata": {},
   "outputs": [],
   "source": [
    "times = [0.1, 1, 5, 10, 20, 40, 80, 160, 320]"
   ]
  },
  {
   "cell_type": "code",
   "execution_count": 593,
   "id": "487d6bce-4b83-4ae1-98eb-a1a70c79ee01",
   "metadata": {},
   "outputs": [],
   "source": [
    "medians = []\n",
    "for i in image_files:\n",
    "    data = fits.getdata(i)\n",
    "    medians.append(np.median(data))"
   ]
  },
  {
   "cell_type": "code",
   "execution_count": 595,
   "id": "72210734-d207-453d-bbae-0c3b71b80178",
   "metadata": {},
   "outputs": [
    {
     "name": "stdout",
     "output_type": "stream",
     "text": [
      "dDN/dt=0.0405747585810304 DN/s\n"
     ]
    }
   ],
   "source": [
    "slope, intercept = np.polyfit(times, medians, 1)\n",
    "dDNdt = slope\n",
    "print(f\"dDN/dt={dDNdt} DN/s\")"
   ]
  },
  {
   "cell_type": "code",
   "execution_count": 597,
   "id": "744d231a-ed52-4e70-aadb-f1e91c93e1ce",
   "metadata": {},
   "outputs": [
    {
     "data": {
      "text/plain": [
       "[<matplotlib.lines.Line2D at 0x301eff9d0>]"
      ]
     },
     "execution_count": 597,
     "metadata": {},
     "output_type": "execute_result"
    },
    {
     "data": {
      "image/png": "[encoded data removed]",
      "text/plain": [
       "<Figure size 640x480 with 1 Axes>"
      ]
     },
     "metadata": {},
     "output_type": "display_data"
    }
   ],
   "source": [
    "#plt.plot(times, maxes, 'o')\n",
    "plt.plot(times, medians, 'o')\n",
    "plt.plot(times, slope * np.array(times) + intercept)"
   ]
  },
  {
   "cell_type": "markdown",
   "id": "890877b6-2ee6-4f6b-b76c-a2f177cb05e6",
   "metadata": {},
   "source": [
    "# Determining DNs to Electrons"
   ]
  },
  {
   "cell_type": "code",
   "execution_count": 188,
   "id": "ddfef72e-b969-4be0-8887-86851b1e3677",
   "metadata": {},
   "outputs": [],
   "source": [
    "ordered = range(64, 71)\n",
    "image_files = [\"Ran_Shikha_Joshi/DN_To_Electron/Good_Data/CCD Image \" + str(n) + \".fit\" for n in ordered]"
   ]
  },
  {
   "cell_type": "code",
   "execution_count": 248,
   "id": "bf487cf6-7dd0-45ec-8fb4-9720431a247f",
   "metadata": {},
   "outputs": [],
   "source": [
    "signals = []\n",
    "noises = []\n",
    "for i in image_files:\n",
    "    data = fits.getdata(i)\n",
    "    signal = data - bias_level_adu\n",
    "    signals.append(np.mean(signal))\n",
    "    noises.append(np.std(signal))"
   ]
  },
  {
   "cell_type": "code",
   "execution_count": 654,
   "id": "78634201-1bb2-4b97-9ace-1a59c8981d5d",
   "metadata": {},
   "outputs": [
    {
     "data": {
      "text/plain": [
       "Text(0, 0.5, 'Noise (DN)')"
      ]
     },
     "execution_count": 654,
     "metadata": {},
     "output_type": "execute_result"
    },
    {
     "data": {
      "image/png": "[encoded data removed]",
      "text/plain": [
       "<Figure size 640x480 with 1 Axes>"
      ]
     },
     "metadata": {},
     "output_type": "display_data"
    }
   ],
   "source": [
    "plt.loglog(signals, noises, 'o')\n",
    "plt.loglog(x_fit, y_fit)\n",
    "plt.axvline(x=1000, color='gray', linestyle='--')    \n",
    "plt.axvline(x=59000, color='gray', linestyle='--')\n",
    "plt.text(500, 64, \"READ NOISE\", ha='center', va='bottom')\n",
    "plt.text(66000, 44, \"SHOT NOISE\", ha='center', va='bottom')\n",
    "plt.text(6000, 44, \"FIXED PATTERN NOISE\", ha='center', va='bottom')\n",
    "plt.xlabel(\"Signal (DN)\")\n",
    "plt.ylabel(\"Noise (DN)\")"
   ]
  },
  {
   "cell_type": "code",
   "execution_count": 618,
   "id": "17e6a0be-8385-4c71-8fac-40cac0201277",
   "metadata": {},
   "outputs": [],
   "source": [
    "log_means = np.log10(signals)\n",
    "log_noises = np.log10(noises)"
   ]
  },
  {
   "cell_type": "code",
   "execution_count": 652,
   "id": "115715bf-6b71-451a-9960-aa9939ffa049",
   "metadata": {},
   "outputs": [
    {
     "name": "stdout",
     "output_type": "stream",
     "text": [
      "Slope = 0.370, Intercept = 0.755\n",
      "Gain (e-/DN): 0.030850063213942187\n"
     ]
    }
   ],
   "source": [
    "x = log_means[1:7]\n",
    "y = log_noises[1:7]\n",
    "\n",
    "# Fit y = m*x + b\n",
    "m, b = np.polyfit(x, y, 1)\n",
    "\n",
    "print(f\"Slope = {m:.3f}, Intercept = {b:.3f}\")\n",
    "\n",
    "# Gain from vertical displacement (b)\n",
    "G = 10**(-2*b)  # because Noise = (1/sqrt(G))*Signal^(1/2)\n",
    "print(f\"Gain (e-/DN): {G:}\")\n"
   ]
  },
  {
   "cell_type": "code",
   "execution_count": 630,
   "id": "c6c059bf-32c2-4b0a-bd6a-7bdc433975b0",
   "metadata": {},
   "outputs": [],
   "source": [
    "x_fit = np.logspace(np.min(log_means), np.max(log_means), 100)  # linear space x\n",
    "y_fit = 10**(m * np.log10(x_fit) + b)  "
   ]
  },
  {
   "cell_type": "code",
   "execution_count": 601,
   "id": "ea8af564-1fe5-4876-96ca-b81cdddbb1c6",
   "metadata": {},
   "outputs": [
    {
     "data": {
      "text/plain": [
       "np.float64(19.017388937618946)"
      ]
     },
     "execution_count": 601,
     "metadata": {},
     "output_type": "execute_result"
    }
   ],
   "source": [
    "(read_noise_adu * G) # read noise in number of electrons"
   ]
  },
  {
   "cell_type": "code",
   "execution_count": 603,
   "id": "b6d04d32-5643-4aaf-aa84-22a55dd64da6",
   "metadata": {},
   "outputs": [
    {
     "data": {
      "text/plain": [
       "np.float64(0.0313123883541218)"
      ]
     },
     "execution_count": 603,
     "metadata": {},
     "output_type": "execute_result"
    }
   ],
   "source": [
    "dDNdt * G # dark current in number of electrons per sec"
   ]
  },
  {
   "cell_type": "code",
   "execution_count": 605,
   "id": "7749f4bd-15a8-4653-b6b0-fdfcc22c072f",
   "metadata": {},
   "outputs": [
    {
     "data": {
      "text/plain": [
       "np.float64(41022.042485707236)"
      ]
     },
     "execution_count": 605,
     "metadata": {},
     "output_type": "execute_result"
    }
   ],
   "source": [
    "signals[-2] * G # full well capacity in terms of electrons"
   ]
  },
  {
   "cell_type": "markdown",
   "id": "a9ca40cd-6623-4f57-b573-e0349fb3a205",
   "metadata": {},
   "source": [
    "# Long Exposures and Cosmic Rays"
   ]
  },
  {
   "cell_type": "code",
   "execution_count": null,
   "id": "0f873768-c014-444b-9d8e-954160329b55",
   "metadata": {},
   "outputs": [],
   "source": []
  }
 ],
 "metadata": {
  "kernelspec": {
   "display_name": "Astro 4410",
   "language": "python",
   "name": "astro4410"
  },
  "language_info": {
   "codemirror_mode": {
    "name": "ipython",
    "version": 3
   },
   "file_extension": ".py",
   "mimetype": "text/x-python",
   "name": "python",
   "nbconvert_exporter": "python",
   "pygments_lexer": "ipython3",
   "version": "3.13.7"
  }
 },
 "nbformat": 4,
 "nbformat_minor": 5
}
