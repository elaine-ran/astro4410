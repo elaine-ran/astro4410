{
 "cells": [
  {
   "cell_type": "code",
   "execution_count": 1,
   "id": "7f80ce7a-5405-4f31-9cec-1cb37c3005d8",
   "metadata": {},
   "outputs": [],
   "source": [
    "import numpy as np\n",
    "import matplotlib.pyplot as plt\n",
    "\n",
    "from photutils.background import Background2D, MedianBackground\n",
    "from astropy.convolution import convolve\n",
    "from photutils.segmentation import make_2dgaussian_kernel, detect_sources, SourceCatalog\n",
    "\n",
    "from astropy.stats import sigma_clipped_stats #to characterize the background\n",
    "from astropy.visualization import SqrtStretch #for visualization of the fits files\n",
    "from astropy.visualization.mpl_normalize import ImageNormalize #for visualization of the fits files\n",
    "from astropy.io import fits"
   ]
  },
  {
   "cell_type": "code",
   "execution_count": null,
   "id": "a5b08ff5-feee-4e4f-bb0a-ec98a86471bb",
   "metadata": {},
   "outputs": [],
   "source": []
  }
 ],
 "metadata": {
  "kernelspec": {
   "display_name": "Astro 4410",
   "language": "python",
   "name": "astro4410"
  },
  "language_info": {
   "codemirror_mode": {
    "name": "ipython",
    "version": 3
   },
   "file_extension": ".py",
   "mimetype": "text/x-python",
   "name": "python",
   "nbconvert_exporter": "python",
   "pygments_lexer": "ipython3",
   "version": "3.13.7"
  }
 },
 "nbformat": 4,
 "nbformat_minor": 5
}
