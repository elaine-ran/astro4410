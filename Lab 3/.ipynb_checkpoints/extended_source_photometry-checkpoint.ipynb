{
 "cells": [
  {
   "cell_type": "markdown",
   "id": "b8eb5962",
   "metadata": {},
   "source": [
    "# General extended source extracion \n",
    "Based on: [https://photutils.readthedocs.io/en/stable/user_guide/segmentation.html](https://photutils.readthedocs.io/en/stable/user_guide/segmentation.html)"
   ]
  },
  {
   "cell_type": "code",
   "execution_count": null,
   "id": "33350463",
   "metadata": {},
   "outputs": [],
   "source": [
    "import numpy as np\n",
    "import matplotlib.pyplot as plt\n",
    "\n",
    "from photutils.background import Background2D, MedianBackground\n",
    "from astropy.convolution import convolve\n",
    "from photutils.segmentation import make_2dgaussian_kernel, detect_sources, SourceCatalog\n",
    "\n",
    "from astropy.stats import sigma_clipped_stats #to characterize the background\n",
    "from astropy.visualization import SqrtStretch #for visualization of the fits files\n",
    "from astropy.visualization.mpl_normalize import ImageNormalize #for visualization of the fits files\n",
    "from astropy.io import fits"
   ]
  },
  {
   "cell_type": "code",
   "execution_count": null,
   "id": "79b7ee23",
   "metadata": {},
   "outputs": [],
   "source": [
    "master_bias_average = 153.79 #average of master (average) bias frame\n",
    "\n",
    "hdu = fits.open(\"water_tribe/HD 175544/Halpha/118.fit\")\n",
    "hdr = hdu[0].header #to get exposure time\n",
    "data = hdu[0].data[250:350, 650:950] #full image is 512X2048\n",
    "data = data - master_bias_average\n",
    "plt.figure(figsize=(12, 12))\n",
    "norm = ImageNormalize(stretch=SqrtStretch()) #for imshow display\n",
    "plt.imshow(data, cmap='Greys', origin='lower', interpolation='nearest', norm=norm) #vmax = 5 required to see the stars.\n",
    "plt.title(\"NGC 6720 (R), EXPTIME = \" + str(hdr['EXPTIME']) + \" Sec\")\n",
    "im_ratio = data.shape[0]/data.shape[1] \n",
    "plt.colorbar(fraction=0.046*im_ratio, pad=0.04) #to scale colorbar to size of frame\n",
    "hdu.close()"
   ]
  },
  {
   "cell_type": "code",
   "execution_count": null,
   "id": "00ffc4c8",
   "metadata": {},
   "outputs": [],
   "source": [
    "\n",
    "bkg_estimator = MedianBackground() # background estimation\n",
    "bkg = Background2D(data, (50, 50), filter_size=(3, 3),\n",
    "                bkg_estimator=bkg_estimator)\n",
    "data -= bkg.background  # subtract the background\n",
    "\n",
    "threshold = 5.0 * bkg.background_rms\n",
    "\n",
    "#convolve with kernel to increase S/N \n",
    "kernel = make_2dgaussian_kernel(3.0, size=5)  # FWHM = 3.0\n",
    "convolved_data = convolve(data, kernel)\n",
    "\n",
    "segment_map = detect_sources(convolved_data, threshold, npixels=10) #10 connected pixels greater than threshold\n",
    "print(segment_map)\n",
    "\n",
    "plt.figure(figsize=(12, 12))\n",
    "plt.imshow(segment_map, origin='lower', cmap=segment_map.cmap,\n",
    "           interpolation='nearest')\n",
    "plt.title('Segmentation Image')"
   ]
  },
  {
   "cell_type": "code",
   "execution_count": null,
   "id": "b32d53d4",
   "metadata": {},
   "outputs": [],
   "source": [
    "cat = SourceCatalog(data, segment_map, convolved_data=convolved_data) #photometry\n",
    "tbl = cat.to_table()\n",
    "tbl['xcentroid'].info.format = '.2f'  # optional format\n",
    "tbl['ycentroid'].info.format = '.2f'\n",
    "tbl['kron_flux'].info.format = '.2f'\n",
    "print(tbl)"
   ]
  }
 ],
 "metadata": {
  "kernelspec": {
   "display_name": "astro4410",
   "language": "python",
   "name": "python3"
  },
  "language_info": {
   "codemirror_mode": {
    "name": "ipython",
    "version": 3
   },
   "file_extension": ".py",
   "mimetype": "text/x-python",
   "name": "python",
   "nbconvert_exporter": "python",
   "pygments_lexer": "ipython3",
   "version": "3.12.6"
  }
 },
 "nbformat": 4,
 "nbformat_minor": 5
}
